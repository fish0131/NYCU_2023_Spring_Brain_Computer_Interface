{
  "cells": [
    {
      "cell_type": "markdown",
      "metadata": {
        "id": "_8QqidFlf73m"
      },
      "source": [
        "## Access Kaggle\n",
        "Serveral things you need to do to access Kaggle\n",
        "- Sign in to Kaggle and join the competition called **BCI Homework 3 Kaggle Judge** (using the link we provide in the document)\n",
        "\n",
        "- Create your own kaggle API token (in your account->API)\n",
        "  \n",
        "  <img src=\"https://i.imgur.com/Gia6TwE.png\" alt=\"drawing\" width=\"800\"/>\n",
        "- Upload API token (.json file) to Colab \n",
        "\n",
        "   <img src=\"https://i.imgur.com/xjEXBYs.png\" alt=\"drawing\" width=\"200\"/>"
      ]
    },
    {
      "cell_type": "code",
      "execution_count": null,
      "metadata": {
        "id": "JonYKQeUDexK"
      },
      "outputs": [],
      "source": [
        "!mkdir -p /root/.kaggle\n",
        "!mv kaggle.json /root/.kaggle\n",
        "!chmod 600 /root/.kaggle/kaggle.json\n",
        "!kaggle competitions list"
      ]
    },
    {
      "cell_type": "markdown",
      "metadata": {
        "id": "M1zW6SbogomZ"
      },
      "source": [
        "## Download Dataset from Kaggle"
      ]
    },
    {
      "cell_type": "code",
      "execution_count": null,
      "metadata": {
        "colab": {
          "base_uri": "https://localhost:8080/"
        },
        "id": "axDIVv5IguDg",
        "outputId": "0872052a-2324-4f48-9efc-abd0391640bf"
      },
      "outputs": [
        {
          "name": "stdout",
          "output_type": "stream",
          "text": [
            "Downloading bci-homework-3-kaggle-judge.zip to /content\n",
            " 96% 270M/282M [00:03<00:00, 144MB/s]\n",
            "100% 282M/282M [00:03<00:00, 83.7MB/s]\n",
            "total 16\n",
            "-rw-r--r-- 1 root root  269 Apr 12 08:33 data_detail.json\n",
            "drwxr-xr-x 2 root root 4096 Apr 12 10:11 labeled_test\n",
            "drwxr-xr-x 2 root root 4096 Apr 12 10:11 train\n",
            "drwxr-xr-x 2 root root 4096 Apr 12 10:11 unlabeled_test\n"
          ]
        }
      ],
      "source": [
        "!kaggle competitions download -c bci-homework-3-kaggle-judge\n",
        "!unzip -qq bci-homework-3-kaggle-judge.zip -d ./\n",
        "!ls -l BCI_hw3_dataset"
      ]
    },
    {
      "cell_type": "markdown",
      "metadata": {
        "id": "_va9_Gt6gYZE"
      },
      "source": [
        "## Install Package (Optional)"
      ]
    },
    {
      "cell_type": "code",
      "execution_count": null,
      "metadata": {
        "id": "D1LImooIKI-G"
      },
      "outputs": [],
      "source": [
        "!pip install torchinfo\n",
        "!pip install mne"
      ]
    },
    {
      "cell_type": "markdown",
      "metadata": {
        "id": "vKqK6OQpgg05"
      },
      "source": [
        "## Import Package and Library to Python Session"
      ]
    },
    {
      "cell_type": "code",
      "execution_count": null,
      "metadata": {
        "id": "StIddDUdJ79U"
      },
      "outputs": [],
      "source": [
        "import torch\n",
        "import torch.nn as nn\n",
        "import torch.optim as optim\n",
        "from torchinfo import summary\n",
        "import torch.nn.functional as F\n",
        "\n",
        "from matplotlib import pyplot as plt\n",
        "from scipy.io import loadmat\n",
        "from scipy.io import savemat\n",
        "import numpy as np\n",
        "import math\n",
        "import time\n",
        "import csv\n",
        "import mne\n",
        "import sys\n",
        "import os\n",
        "\n",
        "DATASET_DIR = \"BCI_hw3_dataset/train\"\n",
        "DATASET_DIR_TEST = \"BCI_hw3_dataset/labeled_test\"\n",
        "DATASET_DIR_EXAM = \"BCI_hw3_dataset/unlabeled_test\"\n",
        "device = torch.device(\"cuda\" if torch.cuda.is_available() else \"cpu\")"
      ]
    },
    {
      "cell_type": "markdown",
      "metadata": {
        "id": "pwJs0RL6KnFA"
      },
      "source": [
        "## EEG Model"
      ]
    },
    {
      "cell_type": "markdown",
      "metadata": {
        "id": "IMFfCOTPLHT8"
      },
      "source": [
        "### EEGNet"
      ]
    },
    {
      "cell_type": "code",
      "execution_count": null,
      "metadata": {
        "colab": {
          "background_save": true
        },
        "id": "vY2SM4vEKpwB"
      },
      "outputs": [],
      "source": [
        "class EEGNet(nn.Module):\n",
        "    \"\"\"EEGNet model from Lawhern et al 2018.\n",
        "    ... Parameters ............\n",
        "    C: int\n",
        "        Number of EEG input channels.\n",
        "    N: int\n",
        "        Number of EEG input time samples.\n",
        "    nb_classes: int\n",
        "        Number of classes to predict.\n",
        "    kernLength: int\n",
        "        Length of temporal convolution in first layer.\n",
        "    F1, F2: int\n",
        "        Number of temporal filters (F1) and number of pointwise filters (F2) to learn.\n",
        "    D: int\n",
        "        Number of spatial filters to learn within each temporal convolution.\n",
        "    dropoutRate: float\n",
        "        Dropout ratio.\n",
        "    ... References ............\n",
        "    https://arxiv.org/abs/1611.08024\n",
        "    \"\"\"\n",
        "    def __init__(self, C, N, nb_classes, kernLength=64, F1=8, F2=16, D=2, dropoutRate=0.5):\n",
        "        super(EEGNet, self).__init__()\n",
        "\n",
        "        self.conv1 = nn.Sequential(\n",
        "            nn.Conv2d(1, F1, (1, kernLength), padding=\"valid\", bias=False),\n",
        "            nn.BatchNorm2d(F1, eps=1e-3, momentum=0.99)\n",
        "        )\n",
        "        self.conv2 = nn.Sequential(\n",
        "            nn.Conv2d(\n",
        "                F1, D * F1, (C, 1), groups=F1, bias=False\n",
        "            ),\n",
        "            nn.BatchNorm2d(D * F1, eps=1e-3, momentum=0.99),\n",
        "            nn.ELU(),\n",
        "            nn.AvgPool2d((1, 4)),\n",
        "            nn.Dropout(dropoutRate)\n",
        "        )\n",
        "\n",
        "        self.conv3 = nn.Sequential(\n",
        "            nn.Conv2d(\n",
        "                D * F1, D * F1, (1, 16),\n",
        "                padding=(0, 8), groups=D * F1, bias=False\n",
        "            ),\n",
        "            nn.Conv2d(D * F1, F2, (1, 1), bias=False),\n",
        "            nn.BatchNorm2d(F2, eps=1e-3, momentum=0.99),\n",
        "            nn.ELU(),\n",
        "            nn.AvgPool2d((1, 8)),\n",
        "            nn.Dropout(dropoutRate)\n",
        "        )\n",
        "\n",
        "        fc_inSize = self.get_size(C, N)[1]\n",
        "        self.classifier = nn.Linear(fc_inSize, nb_classes, bias=True)\n",
        "\n",
        "    def forward(self, x):\n",
        "        x = self.conv1(x)\n",
        "        x = self.conv2(x)\n",
        "        x = self.conv3(x)\n",
        "        x = x.view(x.size()[0], -1)\n",
        "        x = self.classifier(x)\n",
        "        return x\n",
        "\n",
        "    def get_size(self, C, N):\n",
        "        data = torch.ones((1, 1, C, N))\n",
        "        x = self.conv1(data)\n",
        "        x = self.conv2(x)\n",
        "        x = self.conv3(x)\n",
        "        x = x.view(x.size()[0], -1)\n",
        "        return x.size()\n"
      ]
    },
    {
      "cell_type": "markdown",
      "metadata": {
        "id": "-ayUlB9nLJfL"
      },
      "source": [
        "### ShallowConvNet"
      ]
    },
    {
      "cell_type": "code",
      "execution_count": null,
      "metadata": {
        "colab": {
          "background_save": true
        },
        "id": "YSlhxwgpLL2R"
      },
      "outputs": [],
      "source": [
        "class ShallowConvNet(nn.Module):\n",
        "    \"\"\"Shallow ConvNet model from Schirrmeister et al 2017.\n",
        "    ... Parameters ............\n",
        "    C: int\n",
        "        Number of EEG input channels.\n",
        "    N: int\n",
        "        Number of EEG input time samples.\n",
        "    nb_classes: int\n",
        "        Number of classes to predict.\n",
        "    NT: int\n",
        "        Number of temporal filters.\n",
        "    NS: int\n",
        "        Number of spatial filters.\n",
        "    tkerLen: int\n",
        "        Length of the temporal filter.\n",
        "    pool_tLen: int\n",
        "        Length of temporal pooling filter.\n",
        "    pool_tStep: int\n",
        "        Length of stride of temporal pooling filters.\n",
        "    batch_norm: bool\n",
        "        Whether to use batch normalization.\n",
        "    dropRate: float\n",
        "        Dropout ratio.\n",
        "    ... References ............\n",
        "    https://arxiv.org/abs/1703.05051\n",
        "    \"\"\"\n",
        "    def __init__(self, C, N, nb_classes, NT=40, NS=40, tkerLen=12, pool_tLen=35, pool_tStep=7, batch_norm=True, dropRate=0.25):\n",
        "        super(ShallowConvNet, self).__init__()\n",
        "\n",
        "        self.conv1 = nn.Conv2d(1, NT, (1, tkerLen), bias=False)\n",
        "        self.conv2 = nn.Conv2d(NT, NS, (C, 1), bias=False)\n",
        "        self.Bn1 = nn.BatchNorm2d(NS)\n",
        "        self.AvgPool1 = nn.AvgPool2d((1, pool_tLen), stride=(1, pool_tStep))\n",
        "        self.Drop1 = nn.Dropout(dropRate)\n",
        "        fc_inSize = self.get_size(C, N)[1]\n",
        "        self.classifier = nn.Linear(fc_inSize, nb_classes, bias=True)\n",
        "        self.batch_norm = batch_norm\n",
        "\n",
        "    def forward(self, x):\n",
        "        x = self.conv1(x)\n",
        "        x = self.conv2(x)\n",
        "        if self.batch_norm:\n",
        "            x = self.Bn1(x)\n",
        "        x = x ** 2\n",
        "        x = self.AvgPool1(x)\n",
        "        x = torch.log(x)\n",
        "        x = self.Drop1(x)\n",
        "        x = x.view(x.size()[0], -1)\n",
        "        x = self.classifier(x)\n",
        "        return x\n",
        "    \n",
        "    def get_size(self, C, N):\n",
        "        data = torch.ones((1, 1, C, N))\n",
        "        x = self.conv1(data)\n",
        "        x = self.conv2(x)\n",
        "        x = self.AvgPool1(x)\n",
        "        x = x.view(x.size()[0], -1)\n",
        "        return x.size()\n"
      ]
    },
    {
      "cell_type": "markdown",
      "metadata": {
        "id": "rGf6cMA1LcTa"
      },
      "source": [
        "### SCCNet"
      ]
    },
    {
      "cell_type": "code",
      "execution_count": null,
      "metadata": {
        "colab": {
          "background_save": true
        },
        "id": "oM_OywrgyhvZ"
      },
      "outputs": [],
      "source": [
        "# (Bonus) Optional TODO: Advanced SCCNet model without permutation layer\n",
        "class SCCNet_v2(nn.Module):\n",
        "    \"\"\"Advanced SCCNet model without permutation layer.\n",
        "    ... Parameters ............\n",
        "    C: int\n",
        "        Number of EEG input channels.\n",
        "    N: int\n",
        "        Number of EEG input time samples.\n",
        "    nb_classes: int\n",
        "        Number of classes to predict.\n",
        "    Nu: int\n",
        "        Number of spatial kernel.\n",
        "    Nt: int\n",
        "        Length of spatial kernel.\n",
        "    Nc: int\n",
        "        Number of spatial-temporal kernel.\n",
        "    fs: float\n",
        "        Sampling frequency of EEG input.\n",
        "    dropoutRate: float\n",
        "        Dropout ratio.\n",
        "    ... References ............\n",
        "    https://ieeexplore.ieee.org/document/8716937\n",
        "    \"\"\"\n",
        "    def __init__(self, C, N, nb_classes, Nu=None, Nt=1, Nc=20, fs=1000.0, dropoutRate=0.5):\n",
        "        super(SCCNet_v2, self).__init__()\n",
        "        Nu = C if Nu is None else Nu\n",
        "        # self.layer = ...\n",
        "\n",
        "    def forward(self, x):\n",
        "        return x\n"
      ]
    },
    {
      "cell_type": "code",
      "execution_count": null,
      "metadata": {
        "colab": {
          "background_save": true
        },
        "id": "796ap3tDLd7g"
      },
      "outputs": [],
      "source": [
        "# TODO: finish the SCCNet\n",
        "class SCCNet(nn.Module):\n",
        "    \"\"\"SCCNet model from Wei et al 2019.\n",
        "    ... Parameters ............\n",
        "    C: int\n",
        "        Number of EEG input channels.\n",
        "    N: int\n",
        "        Number of EEG input time samples.\n",
        "    nb_classes: int\n",
        "        Number of classes to predict.\n",
        "    Nu: int\n",
        "        Number of spatial kernel.\n",
        "    Nt: int\n",
        "        Length of spatial kernel.\n",
        "    Nc: int\n",
        "        Number of spatial-temporal kernel.\n",
        "    fs: float\n",
        "        Sampling frequency of EEG input.\n",
        "    dropoutRate: float\n",
        "        Dropout ratio.\n",
        "    ... References ............\n",
        "    https://ieeexplore.ieee.org/document/8716937\n",
        "    \"\"\"\n",
        "    # You can only add extra argument to this function, do NOT remove the existed arguments\n",
        "    # The model structure should be dynamic changed by the provided arguments,\n",
        "    # There will be a score penalty if SCCNet structure is static\n",
        "    def __init__(self, C, N, nb_classes, Nu=None, Nt=1, Nc=20, fs=1000.0, dropoutRate=0.5): \n",
        "        super(SCCNet, self).__init__()\n",
        "        Nu = C if Nu is None else Nu\n",
        "        ### TODO: construct the model layers, refer to paper ###\n",
        "        # self.layer = ...\n",
        "\n",
        "    def forward(self, x):\n",
        "        ### TODO: forwarding rule ###\n",
        "        # ex. x = self.layer(x)\n",
        "        # note. remember the square activation and log activation\n",
        "        return x\n",
        "\n",
        "    def get_size(self):\n",
        "        # Optional TODO: auto calculate fully-connected layer helper function\n",
        "        return x.size()\n",
        "\n",
        "class Permute2d(nn.Module):\n",
        "    def __init__(self, shape):\n",
        "        super(Permute2d, self).__init__()\n",
        "        self.shape = shape\n",
        "\n",
        "    def forward(self, x):\n",
        "        return torch.permute(x, self.shape)"
      ]
    },
    {
      "cell_type": "markdown",
      "metadata": {
        "id": "GMAXhwg4L6kl"
      },
      "source": [
        "## Train"
      ]
    },
    {
      "cell_type": "code",
      "execution_count": null,
      "metadata": {
        "id": "FM0GyQJGSxGw"
      },
      "outputs": [],
      "source": [
        "# config training scheme, mode, hyperparam\n",
        "eegmodel = SCCNet # function alias, should be EEGNet, ShallowConvNet, SCCNet, SCCNet_v2\n",
        "kwargs = dict(fs=125.0, dropoutRate=0.5) # custom args for different EEG model\n",
        "scheme = \"ind\"  # \"ind\", \"si\", \"sd\", \"sift\"\n",
        "epochs = 200\n",
        "batch_size = 16\n",
        "lr = 1e-3\n",
        "savepath = \"checkpoints\"\n",
        "os.makedirs(savepath, exist_ok=True)\n",
        "\n",
        "subject_id = \"01\""
      ]
    },
    {
      "cell_type": "markdown",
      "metadata": {
        "id": "YCNTA_gUUbBD"
      },
      "source": [
        "### load data"
      ]
    },
    {
      "cell_type": "code",
      "execution_count": null,
      "metadata": {
        "colab": {
          "base_uri": "https://localhost:8080/"
        },
        "id": "3J5MaTR8Tmrh",
        "outputId": "695c5eb2-9f5e-49d8-e317-b6476d50d24c"
      },
      "outputs": [
        {
          "name": "stdout",
          "output_type": "stream",
          "text": [
            "train: torch.Size([1944, 1, 22, 562]), torch.Size([1944, 4])\n",
            "valid: torch.Size([648, 1, 22, 562]), torch.Size([648, 4])\n"
          ]
        }
      ],
      "source": [
        "mat_T = loadmat(os.path.join(DATASET_DIR, f\"BCIC_S{subject_id}_T.mat\"))\n",
        "x_data, y_data = mat_T[\"x_train\"], mat_T[\"y_train\"].squeeze()\n",
        "x_train = np.zeros((0, *x_data.shape[1:]), dtype=x_data.dtype)\n",
        "y_train = np.zeros((0, ), dtype=y_data.dtype)\n",
        "x_valid = np.zeros((0, *x_data.shape[1:]), dtype=x_data.dtype)\n",
        "y_valid = np.zeros((0, ), dtype=y_data.dtype)\n",
        "\n",
        "if scheme == \"si\" or scheme == \"sift\":\n",
        "    ### TODO: subject-independent training scheme, subject-independent + fine-tuning shared same training data representaion ###\n",
        "\n",
        "elif scheme == \"sd\": # subject-dependent, target `subject` participate in training stage, `testing data should still be LEAVE-OUT`\n",
        "    ### TODO: subject-dependent training scheme ###\n",
        "    \n",
        "else:  # default subject-individual\n",
        "    mat_T = loadmat(os.path.join(DATASET_DIR, f\"BCIC_S{subject_id}_T.mat\")) # load the .mat file\n",
        "    x_data, y_data = mat_T[\"x_train\"], mat_T[\"y_train\"].squeeze()\n",
        "\n",
        "    # simple train-valid split, only consider class balance (may not good enough), CAN be modified\n",
        "    for c in range(4):\n",
        "        x_, y_ = x_data[y_data == c], y_data[y_data == c]\n",
        "        x_train = np.append(x_train, x_[:54], axis=0)\n",
        "        y_train = np.append(y_train, y_[:54], axis=0)\n",
        "        x_valid = np.append(x_valid, x_[54:], axis=0)\n",
        "        y_valid = np.append(y_valid, y_[54:], axis=0)\n",
        "\n",
        "# numpy array to tensor\n",
        "x_train = torch.from_numpy(x_train)\n",
        "y_train = torch.from_numpy(y_train).long()\n",
        "x_valid = torch.from_numpy(x_valid)\n",
        "y_valid = torch.from_numpy(y_valid).long()\n",
        "\n",
        "# tensor reshape for training\n",
        "x_train = x_train.unsqueeze(1)\n",
        "y_train = F.one_hot(y_train, 4)\n",
        "x_valid = x_valid.unsqueeze(1)\n",
        "y_valid = F.one_hot(y_valid, 4)\n",
        "\n",
        "print(\"train: {}, {}\".format(x_train.size(), y_train.size()))\n",
        "print(\"valid: {}, {}\".format(x_valid.size(), y_valid.size()))\n",
        "\n",
        "# build training and validation dataloader\n",
        "trainset = torch.utils.data.TensorDataset(x_train, y_train)\n",
        "validset = torch.utils.data.TensorDataset(x_valid, y_valid)\n",
        "tra_loader = torch.utils.data.DataLoader(trainset, batch_size=batch_size, shuffle=True, num_workers=2)\n",
        "val_loader = torch.utils.data.DataLoader(validset, batch_size=batch_size, shuffle=True, num_workers=2)"
      ]
    },
    {
      "cell_type": "markdown",
      "metadata": {
        "id": "tQsP7kEwf2rc"
      },
      "source": [
        "### training stage"
      ]
    },
    {
      "cell_type": "code",
      "execution_count": null,
      "metadata": {
        "id": "0_c1O8LyiB5d"
      },
      "outputs": [],
      "source": [
        "# train an epoch, evaluate an epoch\n",
        "# if you are familiar with Pytorch, you CAN custom these function\n",
        "#  such as adding the lr_scheduler to optimize the training progress\n",
        "\n",
        "def train_an_epoch(model, data_loader, loss_fn, optimizer):\n",
        "    model.train()\n",
        "\n",
        "    a, b = 0, 0  # hit sample, total sample\n",
        "    epoch_loss = np.zeros((len(data_loader), ))\n",
        "    for i, (x_batch, y_batch) in enumerate(data_loader):\n",
        "        x_batch, y_batch = x_batch.to(device, dtype=torch.float), y_batch.to(device, dtype=torch.float)\n",
        "        ### TODO ###\n",
        "        # TODO: zero grad optimizer\n",
        "        output = # TODO: get model prediction\n",
        "        loss = # TODO: calc loss\n",
        "        # TODO: back propagation\n",
        "        # TODO: step the optimizer\n",
        "        \n",
        "        epoch_loss[i] = loss.item()\n",
        "        b += y_batch.size(0)\n",
        "        a += torch.sum(y_batch.argmax(dim=1) == output.argmax(dim=1)).item()\n",
        "    return epoch_loss.mean(), a / b  # return the loss and acc\n",
        "\n",
        "def evalate_an_epoch(model, data_loader, loss_fn):\n",
        "    model.eval()\n",
        "    a, b = 0, 0 # hit sample, total sample\n",
        "    epoch_loss = np.zeros((len(data_loader), ))\n",
        "    for i, (x_batch, y_batch) in enumerate(data_loader):\n",
        "        x_batch, y_batch = x_batch.to(device, dtype=torch.float), y_batch.to(device, dtype=torch.float)\n",
        "        ### TODO ###\n",
        "        output = # TODO: get model prediction\n",
        "        loss = # TODO: calc loss\n",
        "\n",
        "        epoch_loss[i] = loss.item()\n",
        "        b += y_batch.size(0)\n",
        "        a += torch.sum(y_batch.argmax(dim=1) == output.argmax(dim=1)).item()\n",
        "    return epoch_loss.mean(), a / b  # return the loss and acc\n"
      ]
    },
    {
      "cell_type": "code",
      "execution_count": null,
      "metadata": {
        "colab": {
          "base_uri": "https://localhost:8080/"
        },
        "id": "DCWC0hCVrEad",
        "outputId": "b2bbd47d-ca24-40f0-97e7-f204472378e6"
      },
      "outputs": [
        {
          "name": "stderr",
          "output_type": "stream",
          "text": [
            "/usr/local/lib/python3.9/dist-packages/torchinfo/torchinfo.py:477: UserWarning: TypedStorage is deprecated. It will be removed in the future and UntypedStorage will be the only storage class. This should only matter to you if you are using storages directly.  To access UntypedStorage directly, use tensor.untyped_storage() instead of tensor.storage()\n",
            "  action_fn=lambda data: sys.getsizeof(data.storage()),\n",
            "/usr/local/lib/python3.9/dist-packages/torch/storage.py:665: UserWarning: TypedStorage is deprecated. It will be removed in the future and UntypedStorage will be the only storage class. This should only matter to you if you are using storages directly.  To access UntypedStorage directly, use tensor.untyped_storage() instead of tensor.storage()\n",
            "  return super().__sizeof__() + self.nbytes()\n"
          ]
        },
        {
          "data": {
            "text/plain": [
              "==========================================================================================\n",
              "Layer (type:depth-idx)                   Output Shape              Param #\n",
              "==========================================================================================\n",
              "SCCNet                                   [16, 4]                   --\n",
              "├─Sequential: 1-1                        [16, 1, 22, 562]          --\n",
              "│    └─Conv2d: 2-1                       [16, 22, 1, 562]          506\n",
              "│    └─Permute2d: 2-2                    [16, 1, 22, 562]          --\n",
              "│    └─BatchNorm2d: 2-3                  [16, 1, 22, 562]          2\n",
              "├─Sequential: 1-2                        [16, 20, 1, 564]          --\n",
              "│    └─Conv2d: 2-4                       [16, 20, 1, 564]          5,740\n",
              "│    └─BatchNorm2d: 2-5                  [16, 20, 1, 564]          40\n",
              "├─Dropout: 1-3                           [16, 20, 1, 564]          --\n",
              "├─AvgPool2d: 1-4                         [16, 20, 1, 39]           --\n",
              "├─Linear: 1-5                            [16, 4]                   3,124\n",
              "==========================================================================================\n",
              "Total params: 9,412\n",
              "Trainable params: 9,412\n",
              "Non-trainable params: 0\n",
              "Total mult-adds (M): 56.40\n",
              "==========================================================================================\n",
              "Input size (MB): 0.79\n",
              "Forward/backward pass size (MB): 6.05\n",
              "Params size (MB): 0.04\n",
              "Estimated Total Size (MB): 6.88\n",
              "=========================================================================================="
            ]
          },
          "execution_count": 37,
          "metadata": {},
          "output_type": "execute_result"
        }
      ],
      "source": [
        "model = eegmodel(x_train.size(2), x_train.size(3), 4, **kwargs)\n",
        "loss_fn = nn.CrossEntropyLoss()  # loss function, can be modified\n",
        "opt_fn = torch.optim.Adam(model.parameters(), lr=lr)  # optimizer, CAN be modified\n",
        "# sche_fn = torch.optim.lr_scheduler.<???> # optional\n",
        "\n",
        "# dump the model structure\n",
        "summary(model, input_size=(batch_size, *list(x_train.size()[1:])))"
      ]
    },
    {
      "cell_type": "code",
      "execution_count": null,
      "metadata": {
        "colab": {
          "base_uri": "https://localhost:8080/"
        },
        "id": "1Vc2hyIUf4-n",
        "outputId": "7d92204a-d6a9-4c1b-fde5-5e5b75296937"
      },
      "outputs": [
        {
          "name": "stdout",
          "output_type": "stream",
          "text": [
            "Epoch 0: loss=1.3841, acc=0.2176, val_loss=1.3936, val_acc=0.2222\n",
            "Epoch 1: loss=1.3773, acc=0.2407, val_loss=1.3883, val_acc=0.2500\n",
            "Epoch 2: loss=1.3674, acc=0.2870, val_loss=1.3814, val_acc=0.3194\n",
            "Epoch 3: loss=1.3531, acc=0.3981, val_loss=1.3710, val_acc=0.2778\n",
            "Epoch 4: loss=1.3283, acc=0.3796, val_loss=1.3509, val_acc=0.3611\n",
            "Epoch 5: loss=1.3131, acc=0.5556, val_loss=1.3383, val_acc=0.4028\n",
            "Epoch 6: loss=1.2773, acc=0.5833, val_loss=1.3064, val_acc=0.4722\n",
            "Epoch 7: loss=1.1909, acc=0.5185, val_loss=1.2352, val_acc=0.5000\n",
            "Epoch 8: loss=1.1341, acc=0.5556, val_loss=1.1741, val_acc=0.5556\n",
            "Epoch 9: loss=1.0795, acc=0.5694, val_loss=1.1254, val_acc=0.5556\n",
            "Epoch 10: loss=1.2188, acc=0.4815, val_loss=1.2273, val_acc=0.4444\n",
            "Epoch 11: loss=0.9776, acc=0.6019, val_loss=1.0235, val_acc=0.5000\n",
            "Epoch 12: loss=0.9219, acc=0.5694, val_loss=0.9412, val_acc=0.5417\n",
            "Epoch 13: loss=0.9847, acc=0.5833, val_loss=1.0384, val_acc=0.4583\n",
            "Epoch 14: loss=0.9034, acc=0.5694, val_loss=0.9467, val_acc=0.5694\n",
            "Epoch 15: loss=0.8861, acc=0.5787, val_loss=0.9153, val_acc=0.5833\n",
            "Epoch 16: loss=0.8455, acc=0.6343, val_loss=0.9108, val_acc=0.5833\n",
            "Epoch 17: loss=1.1392, acc=0.5648, val_loss=1.1901, val_acc=0.5139\n",
            "Epoch 18: loss=0.8194, acc=0.6343, val_loss=0.8795, val_acc=0.5972\n",
            "Epoch 19: loss=0.8231, acc=0.6389, val_loss=0.8748, val_acc=0.5833\n",
            "Epoch 20: loss=0.8024, acc=0.6389, val_loss=0.9025, val_acc=0.5972\n",
            "Epoch 21: loss=0.8069, acc=0.6574, val_loss=0.8980, val_acc=0.5694\n",
            "Epoch 22: loss=0.7944, acc=0.6250, val_loss=0.8733, val_acc=0.5972\n",
            "Epoch 23: loss=0.9583, acc=0.5926, val_loss=1.0216, val_acc=0.5694\n",
            "Epoch 24: loss=0.8748, acc=0.5926, val_loss=0.9961, val_acc=0.4306\n",
            "Epoch 25: loss=0.8471, acc=0.5972, val_loss=0.9550, val_acc=0.5833\n",
            "Epoch 26: loss=0.8223, acc=0.6620, val_loss=0.9419, val_acc=0.4861\n",
            "Epoch 27: loss=0.7914, acc=0.6620, val_loss=0.8960, val_acc=0.5139\n",
            "Epoch 28: loss=0.7263, acc=0.6389, val_loss=0.8226, val_acc=0.6389\n",
            "Epoch 29: loss=0.7796, acc=0.6481, val_loss=0.8749, val_acc=0.6111\n",
            "Epoch 30: loss=0.6854, acc=0.6944, val_loss=0.7918, val_acc=0.6389\n",
            "Epoch 31: loss=0.7032, acc=0.6667, val_loss=0.8270, val_acc=0.6250\n",
            "Epoch 32: loss=0.6916, acc=0.6944, val_loss=0.7840, val_acc=0.6111\n",
            "Epoch 33: loss=0.6772, acc=0.6806, val_loss=0.7601, val_acc=0.6250\n",
            "Epoch 34: loss=0.6856, acc=0.6944, val_loss=0.8198, val_acc=0.6250\n",
            "Epoch 35: loss=0.7636, acc=0.6528, val_loss=0.9077, val_acc=0.5556\n",
            "Epoch 36: loss=0.6619, acc=0.7361, val_loss=0.8116, val_acc=0.6111\n",
            "Epoch 37: loss=0.6412, acc=0.7361, val_loss=0.7655, val_acc=0.5972\n",
            "Epoch 38: loss=0.6325, acc=0.7315, val_loss=0.7651, val_acc=0.6389\n",
            "Epoch 39: loss=0.6945, acc=0.7361, val_loss=0.8487, val_acc=0.5972\n",
            "Epoch 40: loss=0.6092, acc=0.7454, val_loss=0.7518, val_acc=0.6111\n",
            "Epoch 41: loss=0.6790, acc=0.7315, val_loss=0.8375, val_acc=0.5972\n",
            "Epoch 42: loss=0.6899, acc=0.6574, val_loss=0.7769, val_acc=0.6667\n",
            "Epoch 43: loss=0.5988, acc=0.7824, val_loss=0.7547, val_acc=0.5972\n",
            "Epoch 44: loss=0.6865, acc=0.6481, val_loss=0.8069, val_acc=0.6667\n",
            "Epoch 45: loss=0.5965, acc=0.7315, val_loss=0.7289, val_acc=0.6389\n",
            "Epoch 46: loss=0.5359, acc=0.7731, val_loss=0.6701, val_acc=0.6806\n",
            "Epoch 47: loss=0.5340, acc=0.7731, val_loss=0.6986, val_acc=0.6667\n",
            "Epoch 48: loss=0.5599, acc=0.8102, val_loss=0.7223, val_acc=0.6389\n",
            "Epoch 49: loss=0.5242, acc=0.7963, val_loss=0.6678, val_acc=0.7083\n",
            "Epoch 50: loss=0.5299, acc=0.7731, val_loss=0.6959, val_acc=0.6528\n",
            "Epoch 51: loss=0.5704, acc=0.7824, val_loss=0.7957, val_acc=0.6667\n",
            "Epoch 52: loss=0.5521, acc=0.7963, val_loss=0.7407, val_acc=0.6389\n",
            "Epoch 53: loss=0.4897, acc=0.8287, val_loss=0.6585, val_acc=0.6528\n",
            "Epoch 54: loss=0.5044, acc=0.8056, val_loss=0.6731, val_acc=0.7083\n",
            "Epoch 55: loss=0.9036, acc=0.6528, val_loss=1.1845, val_acc=0.6250\n",
            "Epoch 56: loss=0.4893, acc=0.8194, val_loss=0.6700, val_acc=0.6944\n",
            "Epoch 57: loss=0.4656, acc=0.8194, val_loss=0.6631, val_acc=0.6806\n",
            "Epoch 58: loss=0.4619, acc=0.8426, val_loss=0.6680, val_acc=0.6667\n",
            "Epoch 59: loss=0.5176, acc=0.8056, val_loss=0.6585, val_acc=0.7222\n",
            "Epoch 60: loss=0.4493, acc=0.8194, val_loss=0.6848, val_acc=0.6667\n",
            "Epoch 61: loss=0.6289, acc=0.6991, val_loss=0.8349, val_acc=0.6528\n",
            "Epoch 62: loss=0.4605, acc=0.8287, val_loss=0.6620, val_acc=0.6806\n",
            "Epoch 63: loss=0.5043, acc=0.7870, val_loss=0.6922, val_acc=0.7083\n",
            "Epoch 64: loss=0.4782, acc=0.7870, val_loss=0.6828, val_acc=0.6944\n",
            "Epoch 65: loss=0.5989, acc=0.7222, val_loss=0.8377, val_acc=0.6806\n",
            "Epoch 66: loss=0.5186, acc=0.7731, val_loss=0.7486, val_acc=0.6111\n",
            "Epoch 67: loss=0.4284, acc=0.8426, val_loss=0.6578, val_acc=0.6806\n",
            "Epoch 68: loss=0.4381, acc=0.8287, val_loss=0.6123, val_acc=0.7083\n",
            "Epoch 69: loss=0.4355, acc=0.8426, val_loss=0.6993, val_acc=0.6944\n",
            "Epoch 70: loss=0.4073, acc=0.8519, val_loss=0.5794, val_acc=0.8056\n",
            "Epoch 71: loss=0.6112, acc=0.7176, val_loss=0.7875, val_acc=0.6667\n",
            "Epoch 72: loss=0.4829, acc=0.8148, val_loss=0.7215, val_acc=0.6528\n",
            "Epoch 73: loss=0.5182, acc=0.7917, val_loss=0.7556, val_acc=0.7083\n",
            "Epoch 74: loss=0.4565, acc=0.8241, val_loss=0.7017, val_acc=0.7222\n",
            "Epoch 75: loss=0.4644, acc=0.7963, val_loss=0.6928, val_acc=0.6667\n",
            "Epoch 76: loss=0.4412, acc=0.8194, val_loss=0.7096, val_acc=0.6944\n",
            "Epoch 77: loss=0.6741, acc=0.6806, val_loss=1.0037, val_acc=0.5556\n",
            "Epoch 78: loss=0.5360, acc=0.7361, val_loss=0.6680, val_acc=0.6806\n",
            "Epoch 79: loss=0.3910, acc=0.8796, val_loss=0.6583, val_acc=0.6944\n",
            "Epoch 80: loss=0.4337, acc=0.8148, val_loss=0.6738, val_acc=0.7083\n",
            "Epoch 81: loss=0.3823, acc=0.8611, val_loss=0.6487, val_acc=0.6806\n",
            "Epoch 82: loss=0.3863, acc=0.8519, val_loss=0.6519, val_acc=0.6944\n",
            "Epoch 83: loss=0.5258, acc=0.7593, val_loss=0.8063, val_acc=0.6111\n",
            "Epoch 84: loss=0.3713, acc=0.8657, val_loss=0.6021, val_acc=0.7778\n",
            "Epoch 85: loss=0.3660, acc=0.8611, val_loss=0.6144, val_acc=0.7778\n",
            "Epoch 86: loss=0.4197, acc=0.8611, val_loss=0.7012, val_acc=0.6667\n",
            "Epoch 87: loss=0.4553, acc=0.8148, val_loss=0.7198, val_acc=0.7083\n",
            "Epoch 88: loss=0.3943, acc=0.8380, val_loss=0.6520, val_acc=0.6944\n",
            "Epoch 89: loss=0.3739, acc=0.8704, val_loss=0.6411, val_acc=0.6806\n",
            "Epoch 90: loss=0.4266, acc=0.8380, val_loss=0.7529, val_acc=0.6389\n",
            "Epoch 91: loss=0.4209, acc=0.8426, val_loss=0.7570, val_acc=0.6806\n",
            "Epoch 92: loss=0.3597, acc=0.8796, val_loss=0.6419, val_acc=0.7083\n",
            "Epoch 93: loss=0.3829, acc=0.8426, val_loss=0.6060, val_acc=0.7361\n",
            "Epoch 94: loss=0.4993, acc=0.7963, val_loss=0.8381, val_acc=0.6111\n",
            "Epoch 95: loss=0.4172, acc=0.8704, val_loss=0.7404, val_acc=0.6111\n",
            "Epoch 96: loss=0.3234, acc=0.8796, val_loss=0.6343, val_acc=0.7361\n",
            "Epoch 97: loss=0.3948, acc=0.8426, val_loss=0.6846, val_acc=0.7222\n",
            "Epoch 98: loss=0.3652, acc=0.8750, val_loss=0.6841, val_acc=0.6806\n",
            "Epoch 99: loss=0.3441, acc=0.8657, val_loss=0.6409, val_acc=0.6806\n",
            "Epoch 100: loss=0.4084, acc=0.8333, val_loss=0.7262, val_acc=0.6667\n",
            "Epoch 101: loss=0.3316, acc=0.8981, val_loss=0.5713, val_acc=0.7639\n",
            "Epoch 102: loss=0.3439, acc=0.8426, val_loss=0.6242, val_acc=0.7083\n",
            "Epoch 103: loss=0.3201, acc=0.8611, val_loss=0.5923, val_acc=0.7361\n",
            "Epoch 104: loss=0.3544, acc=0.8657, val_loss=0.6510, val_acc=0.6944\n",
            "Epoch 105: loss=0.3548, acc=0.8704, val_loss=0.6209, val_acc=0.7222\n",
            "Epoch 106: loss=0.3984, acc=0.8287, val_loss=0.6741, val_acc=0.6806\n",
            "Epoch 107: loss=0.3145, acc=0.8889, val_loss=0.6649, val_acc=0.6944\n",
            "Epoch 108: loss=0.3177, acc=0.9028, val_loss=0.6307, val_acc=0.7639\n",
            "Epoch 109: loss=0.3695, acc=0.8611, val_loss=0.6908, val_acc=0.7083\n",
            "Epoch 110: loss=0.3902, acc=0.8657, val_loss=0.7350, val_acc=0.6667\n",
            "Epoch 111: loss=0.3101, acc=0.8935, val_loss=0.5901, val_acc=0.6667\n",
            "Epoch 112: loss=0.3165, acc=0.8704, val_loss=0.6369, val_acc=0.6944\n",
            "Epoch 113: loss=0.3268, acc=0.8843, val_loss=0.6465, val_acc=0.7083\n",
            "Epoch 114: loss=0.3861, acc=0.8426, val_loss=0.6921, val_acc=0.6806\n",
            "Epoch 115: loss=0.2889, acc=0.9213, val_loss=0.5999, val_acc=0.7083\n",
            "Epoch 116: loss=0.3121, acc=0.8565, val_loss=0.6181, val_acc=0.7500\n",
            "Epoch 117: loss=0.2999, acc=0.9028, val_loss=0.6376, val_acc=0.6944\n",
            "Epoch 118: loss=0.3138, acc=0.9028, val_loss=0.6621, val_acc=0.6944\n",
            "Epoch 119: loss=0.3580, acc=0.8843, val_loss=0.7014, val_acc=0.6667\n",
            "Epoch 120: loss=0.2938, acc=0.8981, val_loss=0.6597, val_acc=0.7083\n",
            "Epoch 121: loss=0.3295, acc=0.8657, val_loss=0.6610, val_acc=0.7083\n",
            "Epoch 122: loss=0.2930, acc=0.8611, val_loss=0.6608, val_acc=0.7361\n",
            "Epoch 123: loss=0.4135, acc=0.8241, val_loss=0.7749, val_acc=0.6528\n",
            "Epoch 124: loss=0.2990, acc=0.9167, val_loss=0.5946, val_acc=0.7222\n",
            "Epoch 125: loss=0.2891, acc=0.9213, val_loss=0.5765, val_acc=0.7639\n",
            "Epoch 126: loss=0.2809, acc=0.9120, val_loss=0.6659, val_acc=0.7083\n",
            "Epoch 127: loss=0.4847, acc=0.7685, val_loss=1.0012, val_acc=0.5833\n",
            "Epoch 128: loss=0.3343, acc=0.9028, val_loss=0.7394, val_acc=0.6667\n",
            "Epoch 129: loss=0.3559, acc=0.8565, val_loss=0.7271, val_acc=0.6667\n",
            "Epoch 130: loss=0.3039, acc=0.8843, val_loss=0.6456, val_acc=0.6806\n",
            "Epoch 131: loss=0.3014, acc=0.8935, val_loss=0.6417, val_acc=0.6806\n",
            "Epoch 132: loss=0.2510, acc=0.9259, val_loss=0.6164, val_acc=0.7222\n",
            "Epoch 133: loss=0.3154, acc=0.8889, val_loss=0.6980, val_acc=0.6944\n",
            "Epoch 134: loss=0.3443, acc=0.8704, val_loss=0.7482, val_acc=0.6111\n",
            "Epoch 135: loss=0.2910, acc=0.8843, val_loss=0.6454, val_acc=0.6667\n",
            "Epoch 136: loss=0.3145, acc=0.8981, val_loss=0.7113, val_acc=0.6389\n",
            "Epoch 137: loss=0.2641, acc=0.9074, val_loss=0.6294, val_acc=0.6944\n",
            "Epoch 138: loss=0.3824, acc=0.8565, val_loss=0.7010, val_acc=0.6806\n",
            "Epoch 139: loss=0.2554, acc=0.9120, val_loss=0.6034, val_acc=0.7778\n",
            "Epoch 140: loss=0.2722, acc=0.8796, val_loss=0.6150, val_acc=0.7361\n",
            "Epoch 141: loss=0.3645, acc=0.8519, val_loss=0.7069, val_acc=0.6667\n",
            "Epoch 142: loss=0.2785, acc=0.8750, val_loss=0.6087, val_acc=0.7639\n",
            "Epoch 143: loss=0.4073, acc=0.8380, val_loss=0.7757, val_acc=0.6250\n",
            "Epoch 144: loss=0.2414, acc=0.9213, val_loss=0.6148, val_acc=0.6806\n",
            "Epoch 145: loss=0.3787, acc=0.8333, val_loss=0.7321, val_acc=0.6944\n",
            "Epoch 146: loss=0.2941, acc=0.9028, val_loss=0.6788, val_acc=0.6667\n",
            "Epoch 147: loss=0.2773, acc=0.9120, val_loss=0.6588, val_acc=0.7222\n",
            "Epoch 148: loss=0.2996, acc=0.8843, val_loss=0.6730, val_acc=0.6806\n",
            "Epoch 149: loss=0.2944, acc=0.8889, val_loss=0.6821, val_acc=0.6667\n",
            "Epoch 150: loss=0.2268, acc=0.9352, val_loss=0.6726, val_acc=0.7500\n",
            "Epoch 151: loss=0.2754, acc=0.8889, val_loss=0.6763, val_acc=0.7083\n",
            "Epoch 152: loss=0.2640, acc=0.9120, val_loss=0.6778, val_acc=0.7222\n",
            "Epoch 153: loss=0.4103, acc=0.7963, val_loss=0.7602, val_acc=0.6111\n",
            "Epoch 154: loss=0.2650, acc=0.9259, val_loss=0.6522, val_acc=0.7639\n",
            "Epoch 155: loss=0.2923, acc=0.9213, val_loss=0.6631, val_acc=0.6667\n",
            "Epoch 156: loss=0.8682, acc=0.6759, val_loss=1.2233, val_acc=0.5972\n",
            "Epoch 157: loss=0.3050, acc=0.9120, val_loss=0.7769, val_acc=0.6806\n",
            "Epoch 158: loss=0.2395, acc=0.9630, val_loss=0.6431, val_acc=0.7639\n",
            "Epoch 159: loss=0.3828, acc=0.8519, val_loss=0.8549, val_acc=0.6250\n",
            "Epoch 160: loss=0.2625, acc=0.8981, val_loss=0.5976, val_acc=0.6944\n",
            "Epoch 161: loss=0.2283, acc=0.9259, val_loss=0.5736, val_acc=0.7222\n",
            "Epoch 162: loss=0.2912, acc=0.9028, val_loss=0.6950, val_acc=0.6944\n",
            "Epoch 163: loss=0.2233, acc=0.9537, val_loss=0.6237, val_acc=0.7500\n",
            "Epoch 164: loss=0.2432, acc=0.9120, val_loss=0.6109, val_acc=0.6944\n",
            "Epoch 165: loss=0.2536, acc=0.9074, val_loss=0.5847, val_acc=0.6806\n",
            "Epoch 166: loss=0.5876, acc=0.7083, val_loss=1.1669, val_acc=0.5278\n",
            "Epoch 167: loss=0.2361, acc=0.9120, val_loss=0.6491, val_acc=0.7917\n",
            "Epoch 168: loss=0.1834, acc=0.9676, val_loss=0.5484, val_acc=0.7778\n",
            "Epoch 169: loss=0.2142, acc=0.9352, val_loss=0.6103, val_acc=0.7083\n",
            "Epoch 170: loss=0.2480, acc=0.9491, val_loss=0.6626, val_acc=0.6944\n",
            "Epoch 171: loss=0.2082, acc=0.9444, val_loss=0.5844, val_acc=0.7083\n",
            "Epoch 172: loss=0.2672, acc=0.9167, val_loss=0.7109, val_acc=0.7222\n",
            "Epoch 173: loss=0.3469, acc=0.8241, val_loss=0.7009, val_acc=0.6806\n",
            "Epoch 174: loss=0.1906, acc=0.9630, val_loss=0.6088, val_acc=0.7778\n",
            "Epoch 175: loss=0.3019, acc=0.9259, val_loss=0.7903, val_acc=0.6667\n",
            "Epoch 176: loss=0.1913, acc=0.9630, val_loss=0.6099, val_acc=0.7639\n",
            "Epoch 177: loss=0.2100, acc=0.9491, val_loss=0.6480, val_acc=0.7500\n",
            "Epoch 178: loss=0.1937, acc=0.9630, val_loss=0.6025, val_acc=0.7639\n",
            "Epoch 179: loss=0.2036, acc=0.9444, val_loss=0.6829, val_acc=0.7222\n",
            "Epoch 180: loss=0.2084, acc=0.9537, val_loss=0.6182, val_acc=0.7639\n",
            "Epoch 181: loss=0.2254, acc=0.9259, val_loss=0.6500, val_acc=0.7222\n",
            "Epoch 182: loss=0.2700, acc=0.9306, val_loss=0.7772, val_acc=0.6528\n",
            "Epoch 183: loss=0.3445, acc=0.8565, val_loss=0.8317, val_acc=0.6111\n",
            "Epoch 184: loss=0.2819, acc=0.8565, val_loss=0.7685, val_acc=0.6528\n",
            "Epoch 185: loss=0.2442, acc=0.9028, val_loss=0.6728, val_acc=0.6528\n",
            "Epoch 186: loss=0.2271, acc=0.9398, val_loss=0.6628, val_acc=0.7500\n",
            "Epoch 187: loss=0.2150, acc=0.9074, val_loss=0.6253, val_acc=0.7083\n",
            "Epoch 188: loss=0.2769, acc=0.9167, val_loss=0.7069, val_acc=0.7083\n",
            "Epoch 189: loss=0.1828, acc=0.9676, val_loss=0.5830, val_acc=0.7639\n",
            "Epoch 190: loss=0.1936, acc=0.9398, val_loss=0.6065, val_acc=0.7222\n",
            "Epoch 191: loss=0.2069, acc=0.9537, val_loss=0.7117, val_acc=0.7222\n",
            "Epoch 192: loss=0.1543, acc=0.9769, val_loss=0.5572, val_acc=0.7639\n",
            "Epoch 193: loss=0.2234, acc=0.9259, val_loss=0.6506, val_acc=0.7361\n",
            "Epoch 194: loss=0.2852, acc=0.9028, val_loss=0.7135, val_acc=0.6806\n",
            "Epoch 195: loss=0.2066, acc=0.9398, val_loss=0.6809, val_acc=0.7361\n",
            "Epoch 196: loss=0.2154, acc=0.9120, val_loss=0.6462, val_acc=0.7222\n",
            "Epoch 197: loss=0.1819, acc=0.9352, val_loss=0.5637, val_acc=0.7222\n",
            "Epoch 198: loss=0.1784, acc=0.9583, val_loss=0.5872, val_acc=0.7083\n",
            "Epoch 199: loss=0.1866, acc=0.9630, val_loss=0.6660, val_acc=0.7222\n",
            "time spend: 310.72 sec\n"
          ]
        }
      ],
      "source": [
        "# if you are familiar with Pytorch, you CAN custom the following training loop\n",
        "\n",
        "hist = dict(\n",
        "    loss=np.zeros((epochs, )), val_loss=np.zeros((epochs, )),\n",
        "    acc=np.zeros((epochs, )), val_acc=np.zeros((epochs, ))\n",
        ")\n",
        "clock_ini = time.time()\n",
        "for ep in range(epochs):\n",
        "    loss, acc = train_an_epoch(model, tra_loader, loss_fn, opt_fn)\n",
        "    loss, acc = evalate_an_epoch(model, tra_loader, loss_fn)\n",
        "    val_loss, val_acc = evalate_an_epoch(model, val_loader, loss_fn)\n",
        "    print(\"Epoch {}: loss={:.4f}, acc={:.4f}, val_loss={:.4f}, val_acc={:.4f}\".format(ep, loss, acc, val_loss, val_acc))\n",
        "    hist[\"loss\"][ep] = loss\n",
        "    hist[\"acc\"][ep] = acc\n",
        "    hist[\"val_loss\"][ep] = val_loss\n",
        "    hist[\"val_acc\"][ep] = val_acc\n",
        "\n",
        "    if True:\n",
        "        # save the pre-trained weight in each epoch, CAN be modified\n",
        "        checkpoint = dict(epoch=-1, state_dict=model.state_dict(), loss=loss, val_loss=val_loss)\n",
        "        torch.save(checkpoint, os.path.join(savepath, f\"TORCH_MODEL_NAME-ep{ep}.pth\"))\n",
        "print(\"time spend: {:.2f} sec\".format(time.time() - clock_ini))"
      ]
    },
    {
      "cell_type": "code",
      "execution_count": null,
      "metadata": {
        "colab": {
          "base_uri": "https://localhost:8080/",
          "height": 391
        },
        "id": "5uyzf16TtdIu",
        "outputId": "7b6cc417-8443-4422-d71f-d5e4b4229d5c"
      },
      "outputs": [
        {
          "data": {
            "image/png": "[encoded data removed]",
            "text/plain": [
              "<Figure size 1000x400 with 2 Axes>"
            ]
          },
          "metadata": {},
          "output_type": "display_data"
        }
      ],
      "source": [
        "# Acc curve, Loss curve\n",
        "plt.figure(figsize = (10, 4))\n",
        "plt.subplot(1, 2, 1)\n",
        "plt.title(\"Acc Curve\")\n",
        "plt.plot(hist[\"acc\"], color=\"red\")\n",
        "plt.plot(hist[\"val_acc\"], color=\"blue\")\n",
        "plt.subplot(1, 2, 2)\n",
        "plt.title(\"Loss Curve\")\n",
        "plt.plot(hist[\"loss\"], color=\"red\")\n",
        "plt.plot(hist[\"val_loss\"], color=\"blue\")\n",
        "plt.show()"
      ]
    },
    {
      "cell_type": "markdown",
      "metadata": {
        "id": "k0bLyZPjO99A"
      },
      "source": [
        "### fine-tuning (SI+FT)"
      ]
    },
    {
      "cell_type": "code",
      "execution_count": null,
      "metadata": {
        "id": "j7WHb4aoPB1B"
      },
      "outputs": [],
      "source": [
        "### TODO: build the fine-tuning dataloader ###\n",
        "\n",
        "\n",
        "# load pre-trained model\n",
        "### TODO ###\n",
        "ep_num = # TODO: the pre-trained epoch you want to tuning\n",
        "model_path = os.path.join(savepath, \"{}-ep{}.pth\".format(\"TORCH_MODEL_NAME\", ep_num))\n",
        "checkpoint = torch.load(model_path, map_location=\"cpu\")  # load .pth\n",
        "model.load_state_dict(checkpoint[\"state_dict\"])  # set model weight\n",
        "\n",
        "# # Optional: lock pre-trained weight\n",
        "# for param in model.parameters():\n",
        "#     param.requires_grad = False\n",
        "\n",
        "### TODO: fine-tuning training loop ###\n"
      ]
    },
    {
      "cell_type": "markdown",
      "metadata": {
        "id": "UHAmdMQ5tD2D"
      },
      "source": [
        "## Test"
      ]
    },
    {
      "cell_type": "code",
      "execution_count": null,
      "metadata": {
        "colab": {
          "base_uri": "https://localhost:8080/"
        },
        "id": "2NnywQNwL7pQ",
        "outputId": "608207ab-901d-4f21-9dd7-934d7b61085a"
      },
      "outputs": [
        {
          "name": "stdout",
          "output_type": "stream",
          "text": [
            "test: torch.Size([288, 1, 22, 562]), torch.Size([288, 4])\n"
          ]
        },
        {
          "data": {
            "text/plain": [
              "(0.5535194658570819, 0.7118055555555556)"
            ]
          },
          "execution_count": 28,
          "metadata": {},
          "output_type": "execute_result"
        }
      ],
      "source": [
        "# load pre-trained model\n",
        "best_epoch = # TODO: determine the `BEST` epoch\n",
        "test_model_path = os.path.join(savepath, \"{}-ep{}.pth\".format(\"TORCH_MODEL_NAME\", best_epoch))\n",
        "checkpoint = torch.load(test_model_path, map_location=\"cpu\")  # load .pth\n",
        "model.load_state_dict(checkpoint[\"state_dict\"])  # set model weight\n",
        "\n",
        "# testing on subject S01 test (E) session\n",
        "mat = loadmat(os.path.join(DATASET_DIR_TEST, f\"BCIC_S01_E.mat\"))\n",
        "x, y = mat[\"x_test\"], mat[\"y_test\"].squeeze()\n",
        "x = torch.from_numpy(x)\n",
        "y = torch.from_numpy(y).long()\n",
        "x = x.unsqueeze(1)\n",
        "y = F.one_hot(y, 4)\n",
        "\n",
        "print(\"test: {}, {}\".format(x.size(), y.size()))\n",
        "\n",
        "testset = torch.utils.data.TensorDataset(x, y)\n",
        "test_loader = torch.utils.data.DataLoader(testset, batch_size=batch_size, shuffle=False, num_workers=2)\n",
        "evalate_an_epoch(model, test_loader, loss_fn)"
      ]
    },
    {
      "cell_type": "markdown",
      "metadata": {
        "id": "_6ou77S3zpXS"
      },
      "source": [
        "## Analyzing\n",
        "You need to do some further analysis including\n",
        "- confusion matrix, \n",
        "- topographic maps for spatial kernel weights in SCCNet\n",
        "\n",
        "You need to do these on your own in this section"
      ]
    },
    {
      "cell_type": "code",
      "execution_count": null,
      "metadata": {
        "id": "E-0XIkvG01TD"
      },
      "outputs": [],
      "source": [
        "# mne doc: https://mne.tools/stable/python_reference.html\n",
        "# \"data_detail.json\" in BCI_hw3_dataset/ provides you with all channel names in this dataset. It will help you to plot a topoplot.\n"
      ]
    },
    {
      "cell_type": "markdown",
      "metadata": {
        "id": "6-TIHddY0_Py"
      },
      "source": [
        "## Generate Submission csv File"
      ]
    },
    {
      "cell_type": "code",
      "execution_count": null,
      "metadata": {
        "id": "OO8u37w51BBE"
      },
      "outputs": [],
      "source": [
        "eegmodel = SCCNet # function alias, should be EEGNet, ShallowConvNet, SCCNet, SCCNet_v2\n",
        "kwargs = dict(fs=125.0, dropoutRate=0.5) # custom args for different EEG model\n",
        "model = eegmodel(22, 562, 4, **kwargs)\n",
        "best_epoch = hist[\"val_loss\"].argmin()\n",
        "test_model_path = os.path.join(savepath, \"{}-ep{}.pth\".format(\"TORCH_MODEL_NAME\", best_epoch))\n",
        "checkpoint = torch.load(test_model_path, map_location=\"cpu\") \n",
        "model.load_state_dict(checkpoint[\"state_dict\"])\n",
        "\n",
        "model.eval()\n",
        "fd = open(\"simple_sd.csv\", \"w\")\n",
        "csv_writer = csv.writer(fd)\n",
        "csv_writer.writerow([\"id\", \"Category\"])\n",
        "for sid in [\"05\", \"06\", \"0A\", \"0B\", \"0C\"]:\n",
        "    mat = loadmat(os.path.join(DATASET_DIR_EXAM, f\"BCIC_S{sid}_E.mat\"))\n",
        "    x = torch.from_numpy(mat[\"x_test\"])\n",
        "    x = x.unsqueeze(1).to(device, dtype=torch.float)\n",
        "    p = model(x).argmax(dim=1).detach().cpu().numpy()\n",
        "    for epoch_id, label in enumerate(p):\n",
        "        csv_writer.writerow([f\"S{sid}_{epoch_id}\", label])\n",
        "fd.close()"
      ]
    }
  ],
  "metadata": {
    "colab": {
      "collapsed_sections": [
        "pwJs0RL6KnFA",
        "YCNTA_gUUbBD"
      ],
      "provenance": []
    },
    "kernelspec": {
      "display_name": "Python 3",
      "name": "python3"
    },
    "language_info": {
      "name": "python"
    }
  },
  "nbformat": 4,
  "nbformat_minor": 0
}